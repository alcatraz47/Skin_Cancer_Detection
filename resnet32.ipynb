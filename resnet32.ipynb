{
 "cells": [
  {
   "cell_type": "code",
   "execution_count": 1,
   "metadata": {},
   "outputs": [
    {
     "name": "stderr",
     "output_type": "stream",
     "text": [
      "Using TensorFlow backend.\n"
     ]
    }
   ],
   "source": [
    "import keras\n",
    "from keras.models import *\n",
    "from keras.layers import *\n",
    "from keras.layers.normalization import *\n",
    "from keras.layers.convolutional import *\n",
    "from keras.regularizers import *\n",
    "from keras.layers.core import Dense\n",
    "from keras.layers.core import Activation\n",
    "from keras import backend as K"
   ]
  },
  {
   "cell_type": "code",
   "execution_count": 2,
   "metadata": {},
   "outputs": [],
   "source": [
    "class Resnet32:\n",
    "    @staticmethod\n",
    "    def resnet(data, num_filters, stride, channel_dimension, reduce_dimension, reg, bnEps, bnMom):\n",
    "        shortcut = data\n",
    "        \n",
    "        #bn -> ac -> conv2d(stride = (1,1))\n",
    "        bn_1 = BatchNormalization(axis = channel_dimension, epsilon = bnEps, momentum = bnMom)(data)\n",
    "        ac_1 = Activation(\"relu\")(bn_1)\n",
    "        \n",
    "        conv_1 = Conv2D(int(num_filters * .25), (1, 1), use_bias = False, kernel_regularizer = l2(reg))(act_1)\n",
    "        \n",
    "        #bn -> ac -> conv2d(stride = (3,3))\n",
    "        bn_2 = BatchNormalization(axis = channel_dimension, epsilon = bnEps, momentum = bnMom)(conv_1)\n",
    "        ac_2 = Activation(\"relu\")(bn_2)\n",
    "        \n",
    "        conv_2 = Conv2D(int(num_filters * .25), (3, 3), use_bias = False, kernel_regularizer = l2(reg))(act_2)\n",
    "        \n",
    "        #bn -> ac -> conv2d(stride = (1, 1))\n",
    "        bn_3 = BatchNormalization(axis = channel_dimension, epsilon = bnEps, momentum = bnMom)(conv_2)\n",
    "        ac_3 = Activation(\"relu\")(bn_3)\n",
    "        \n",
    "        conv_3 = Conv2D(num_filters, (1, 1), use_bias = False, kernel_regularizer = l2(reg))(act_3)\n",
    "        \n",
    "        #for spatial size reducing\n",
    "        if reduce_dimension:\n",
    "            shortcut = Conv2D(num_filters, (1, 1), use_bias = False, kernel_regularizer = l2(reg))(act_1)\n",
    "        \n",
    "        #final conv layer adding\n",
    "        resnet = add([conv_3, shortcut])\n",
    "        return resnet\n",
    "        \n",
    "    @staticmethod\n",
    "    def build_model(height, width, depth, classes, stages, num_filters, reg = 0.0001, \n",
    "                    bnEps = 2e-5, bnMom = 0.9): \n",
    "        input_shape = (height, width, depth)\n",
    "        channel_dimension = -1\n",
    "        \n",
    "        #data driven channel dimension\n",
    "        if(K.image_data_format() == \"channels_first\"):\n",
    "            input_shape = (depth, height, width)\n",
    "            channel_dimension = 1\n",
    "        \n",
    "        #input -> bn to feed into resnet\n",
    "        inputs = Input(shape = input_shape)\n",
    "        x = BatchNormalization(axis = channel_dimension, epsilon = bnEps, momentum = bnMom)(inputs)\n",
    "        \n",
    "        #conv2d(stride = (5, 5)) -> bn -> act -> pool\n",
    "        x = Conv2D(num_filters[0], (5, 5), use_bias = False, padding = \"same\", kernel_regularizer = l2(reg))(x)\n",
    "        x = BatchNormalization(axis = channel_dimension, epsilon = bnEps, momentum = bnMom)(x)\n",
    "        x = Activation(\"relu\")(x)\n",
    "        x = ZeroPadding2D(1, 1)(x)\n",
    "        x = MaxPooling2D((3, 3), strides = (2, 2))(x)\n",
    "        \n",
    "        #stacking up resnets\n",
    "        for i in range(0, len(stages)):\n",
    "            if i == 0:\n",
    "                stride = (1, 1)\n",
    "            else:\n",
    "                stride = (2, 2)\n",
    "            \n",
    "            x = Resnet32.resnet(x, num_fliters[i+1], stride, channel_dimension, reduce_dimension = True, \n",
    "                                bnEps = bnEps, bnMom = bnMom)\n",
    "            \n",
    "            for j in range(0, stages[i] - 1):\n",
    "                x = Resnet32.resnet(x, num_filters[i+1], (1, 1), channel_dimension, bnEps = bnEps, bnMom = bnMom)\n",
    "\n",
    "                \n",
    "        #avoid ffc and use average pooling\n",
    "        x = BatchNormalization(axis = channel_dimension, epsilon = bnEps, momentum = bnMom)(x)\n",
    "        x = Activation(\"relu\")(x)\n",
    "        x = AveragePooling2D(8, 8)(x)\n",
    "        \n",
    "        #softmax classifier\n",
    "        x = Flatten()(x)\n",
    "        x = Dense(classes, kernel_initializer = l2(reg))(x)\n",
    "        x = Activation(\"softmax\")(x)\n",
    "        \n",
    "        model = Model(inputs, x, name = \"resnet_32\")\n",
    "        return model"
   ]
  },
  {
   "cell_type": "code",
   "execution_count": null,
   "metadata": {},
   "outputs": [],
   "source": []
  }
 ],
 "metadata": {
  "kernelspec": {
   "display_name": "Python 3",
   "language": "python",
   "name": "python3"
  },
  "language_info": {
   "codemirror_mode": {
    "name": "ipython",
    "version": 3
   },
   "file_extension": ".py",
   "mimetype": "text/x-python",
   "name": "python",
   "nbconvert_exporter": "python",
   "pygments_lexer": "ipython3",
   "version": "3.6.8"
  }
 },
 "nbformat": 4,
 "nbformat_minor": 2
}
